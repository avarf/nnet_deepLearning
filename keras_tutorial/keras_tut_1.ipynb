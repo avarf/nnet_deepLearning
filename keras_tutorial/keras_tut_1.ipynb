{
 "cells": [
  {
   "cell_type": "code",
   "execution_count": 1,
   "metadata": {},
   "outputs": [
    {
     "name": "stderr",
     "output_type": "stream",
     "text": [
      "Using TensorFlow backend.\n"
     ]
    }
   ],
   "source": [
    "from sklearn.datasets import load_breast_cancer\n",
    "from sklearn import metrics\n",
    "\n",
    "import numpy as np\n",
    "\n",
    "from keras.models import Sequential\n",
    "import keras.layers as kl"
   ]
  },
  {
   "cell_type": "markdown",
   "metadata": {},
   "source": [
    "### Tutorial example description \n",
    "we will use the Wisconsin Breast Cancer dataset, which is bundled with the scikit-learn library. The dataset contains attribute drawn from a digitized image of fine needle aspirate of a breast mass. They describe characteristics of the cell nuclei present in the image. On the basis of those attributes, the mass can be marked as malignant or benign. The goal of our classification system is to predict that leve."
   ]
  },
  {
   "cell_type": "code",
   "execution_count": 2,
   "metadata": {
    "collapsed": true
   },
   "outputs": [],
   "source": [
    "# importing the train and test data\n",
    "cancer = load_breast_cancer()\n",
    "\n",
    "x_train = cancer.data[:340]\n",
    "y_train = cancer.target[:340]\n",
    "\n",
    "x_test = cancer.data[340:]\n",
    "y_test = cancer.target[340:]"
   ]
  },
  {
   "cell_type": "code",
   "execution_count": 3,
   "metadata": {},
   "outputs": [],
   "source": [
    "# defining the model\n",
    "model = Sequential()\n",
    "\n",
    "model.add(kl.Dense(15, input_dim=30, activation='relu'))\n",
    "model.add(kl.Dense(1, activation='sigmoid')) # output layer"
   ]
  },
  {
   "cell_type": "code",
   "execution_count": 4,
   "metadata": {
    "collapsed": true
   },
   "outputs": [],
   "source": [
    "# Once we have defined the model we will then compile the model by supplying the necessary optimizer, loss function, and the metric on which we want to evaluate the model performance.\n",
    "model.compile(loss='binary_crossentropy', optimizer='rmsprop', metrics=['accuracy'])"
   ]
  },
  {
   "cell_type": "code",
   "execution_count": 5,
   "metadata": {},
   "outputs": [
    {
     "name": "stdout",
     "output_type": "stream",
     "text": [
      "Epoch 1/20\n",
      "340/340 [==============================] - 1s 2ms/step - loss: 8.6753 - acc: 0.4618\n",
      "Epoch 2/20\n",
      "340/340 [==============================] - 0s 73us/step - loss: 8.6753 - acc: 0.4618\n",
      "Epoch 3/20\n",
      "340/340 [==============================] - 0s 91us/step - loss: 8.6753 - acc: 0.4618\n",
      "Epoch 4/20\n",
      "340/340 [==============================] - 0s 97us/step - loss: 8.6753 - acc: 0.4618\n",
      "Epoch 5/20\n",
      "340/340 [==============================] - 0s 96us/step - loss: 8.6753 - acc: 0.4618\n",
      "Epoch 6/20\n",
      "340/340 [==============================] - 0s 94us/step - loss: 8.6753 - acc: 0.4618\n",
      "Epoch 7/20\n",
      "340/340 [==============================] - 0s 90us/step - loss: 8.6753 - acc: 0.4618\n",
      "Epoch 8/20\n",
      "340/340 [==============================] - 0s 101us/step - loss: 8.6753 - acc: 0.4618\n",
      "Epoch 9/20\n",
      "340/340 [==============================] - 0s 89us/step - loss: 8.6753 - acc: 0.4618\n",
      "Epoch 10/20\n",
      "340/340 [==============================] - 0s 93us/step - loss: 8.6753 - acc: 0.4618\n",
      "Epoch 11/20\n",
      "340/340 [==============================] - 0s 88us/step - loss: 8.6753 - acc: 0.4618\n",
      "Epoch 12/20\n",
      "340/340 [==============================] - 0s 112us/step - loss: 8.6753 - acc: 0.4618\n",
      "Epoch 13/20\n",
      "340/340 [==============================] - 0s 79us/step - loss: 8.6753 - acc: 0.4618\n",
      "Epoch 14/20\n",
      "340/340 [==============================] - 0s 83us/step - loss: 8.6753 - acc: 0.4618\n",
      "Epoch 15/20\n",
      "340/340 [==============================] - 0s 110us/step - loss: 8.6753 - acc: 0.4618\n",
      "Epoch 16/20\n",
      "340/340 [==============================] - 0s 93us/step - loss: 8.6753 - acc: 0.4618\n",
      "Epoch 17/20\n",
      "340/340 [==============================] - 0s 90us/step - loss: 8.6753 - acc: 0.4618\n",
      "Epoch 18/20\n",
      "340/340 [==============================] - 0s 101us/step - loss: 8.6753 - acc: 0.4618\n",
      "Epoch 19/20\n",
      "340/340 [==============================] - 0s 101us/step - loss: 8.6753 - acc: 0.4618\n",
      "Epoch 20/20\n",
      "340/340 [==============================] - 0s 88us/step - loss: 8.6753 - acc: 0.4618\n"
     ]
    },
    {
     "data": {
      "text/plain": [
       "<keras.callbacks.History at 0x7f0cfe2925c0>"
      ]
     },
     "execution_count": 5,
     "metadata": {},
     "output_type": "execute_result"
    }
   ],
   "source": [
    "model.fit(x_train, y_train, epochs=20, batch_size=50)"
   ]
  },
  {
   "cell_type": "code",
   "execution_count": 6,
   "metadata": {},
   "outputs": [
    {
     "name": "stdout",
     "output_type": "stream",
     "text": [
      "Accuracy: 0.240174672489\n",
      "             precision    recall  f1-score   support\n",
      "\n",
      "          0       0.24      1.00      0.39        55\n",
      "          1       0.00      0.00      0.00       174\n",
      "\n",
      "avg / total       0.06      0.24      0.09       229\n",
      "\n"
     ]
    },
    {
     "name": "stderr",
     "output_type": "stream",
     "text": [
      "/home/ali/.local/lib/python3.5/site-packages/sklearn/metrics/classification.py:1135: UndefinedMetricWarning: Precision and F-score are ill-defined and being set to 0.0 in labels with no predicted samples.\n",
      "  'precision', 'predicted', average, warn_for)\n"
     ]
    }
   ],
   "source": [
    "predictions = model.predict_classes(x_test)\n",
    "\n",
    "print('Accuracy:', metrics.accuracy_score(y_true=y_test, y_pred=predictions))\n",
    "print(metrics.classification_report(y_true=y_test, y_pred=predictions))"
   ]
  }
 ],
 "metadata": {
  "kernelspec": {
   "display_name": "Python 3",
   "language": "python",
   "name": "python3"
  },
  "language_info": {
   "codemirror_mode": {
    "name": "ipython",
    "version": 3
   },
   "file_extension": ".py",
   "mimetype": "text/x-python",
   "name": "python",
   "nbconvert_exporter": "python",
   "pygments_lexer": "ipython3",
   "version": "3.5.2"
  }
 },
 "nbformat": 4,
 "nbformat_minor": 2
}
