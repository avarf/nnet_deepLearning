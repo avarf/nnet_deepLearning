{
 "cells": [
  {
   "cell_type": "markdown",
   "metadata": {},
   "source": [
    "In this notebook I implemented simple feed-forward neural network for solving XOR problem and also mnist classification"
   ]
  },
  {
   "cell_type": "code",
   "execution_count": 1,
   "metadata": {
    "collapsed": true
   },
   "outputs": [],
   "source": [
    "import tensorflow as tf\n",
    "# sess = tf.Session()"
   ]
  },
  {
   "cell_type": "code",
   "execution_count": 2,
   "metadata": {
    "collapsed": true
   },
   "outputs": [],
   "source": [
    "sess = tf.InteractiveSession()"
   ]
  },
  {
   "cell_type": "code",
   "execution_count": 9,
   "metadata": {},
   "outputs": [
    {
     "data": {
      "text/plain": [
       "array([[ 0.4638865 , -0.7236262 , -0.38696277,  0.55073184],\n",
       "       [-0.48658717,  0.27397546, -0.91965657,  0.58598959]], dtype=float32)"
      ]
     },
     "execution_count": 9,
     "metadata": {},
     "output_type": "execute_result"
    }
   ],
   "source": [
    "# generating a 2*4 randomly generated tensor\n",
    "tf.truncated_normal([2,4]).eval()"
   ]
  },
  {
   "cell_type": "markdown",
   "metadata": {},
   "source": [
    "## XOR with NNet"
   ]
  },
  {
   "cell_type": "code",
   "execution_count": 3,
   "metadata": {
    "collapsed": true
   },
   "outputs": [],
   "source": [
    "import numpy as np"
   ]
  },
  {
   "cell_type": "code",
   "execution_count": 26,
   "metadata": {},
   "outputs": [
    {
     "name": "stdout",
     "output_type": "stream",
     "text": [
      "WARNING:tensorflow:From /home/ali/.local/lib/python3.5/site-packages/tensorflow/python/util/tf_should_use.py:170: initialize_all_variables (from tensorflow.python.ops.variables) is deprecated and will be removed after 2017-03-02.\n",
      "Instructions for updating:\n",
      "Use `tf.global_variables_initializer` instead.\n"
     ]
    }
   ],
   "source": [
    "input_layer = tf.placeholder(tf.float32, shape=[None,2])\n",
    "# placeholder for our desired output for training the network\n",
    "desired_outputs = tf.placeholder(tf.float32, shape=[None, 1])\n",
    "\n",
    "neurons_1 = 8\n",
    "weights_1 = tf.Variable(tf.truncated_normal([2,neurons_1]))\n",
    "bias_1 = tf.Variable(tf.truncated_normal([neurons_1]))\n",
    "layer_1_out = tf.nn.sigmoid(tf.matmul(input_layer, weights_1)+bias_1)\n",
    "\n",
    "neurons_2 = 4\n",
    "weights_2 = tf.Variable(tf.truncated_normal([neurons_1, neurons_2]))\n",
    "bias_2 = tf.Variable(tf.truncated_normal([neurons_2]))\n",
    "layer_2_out = tf.nn.sigmoid(tf.matmul(layer_1_out, weights_2)+bias_2)\n",
    "\n",
    "neurons_3 = 1\n",
    "weights_3 = tf.Variable(tf.truncated_normal([neurons_2, neurons_3]))\n",
    "bias_3 = tf.Variable(tf.truncated_normal([neurons_3]))\n",
    "network_out = tf.nn.sigmoid(tf.matmul(layer_2_out, weights_3)+bias_3)\n",
    "\n",
    "# [!] The error function chosen is good for a multiclass classification taks, not for a XOR.\n",
    "error_function = 0.5 * tf.reduce_sum(tf.subtract(network_out, desired_outputs) * tf.subtract(network_out, desired_outputs))\n",
    "\n",
    "train_step = tf.train.GradientDescentOptimizer(0.05).minimize(error_function)\n",
    "\n",
    "sess.run(tf.initialize_all_variables())\n",
    "\n",
    "training_inputs = [[0.0, 0.0], [0.0, 1.0], [1.0, 0.0], [1.0, 1.0]]\n",
    "\n",
    "training_outputs = [[0.0], [1.0], [1.0],[0.0]]\n",
    "\n",
    "for i in range(20000):\n",
    "    _, loss = sess.run([train_step, error_function],\n",
    "                       feed_dict={input_layer: np.array(training_inputs),\n",
    "                                  desired_outputs: np.array(training_outputs)})\n",
    "#     print(loss)"
   ]
  },
  {
   "cell_type": "code",
   "execution_count": 27,
   "metadata": {},
   "outputs": [
    {
     "name": "stdout",
     "output_type": "stream",
     "text": [
      "[[ 0.01809032]]\n",
      "[[ 0.98016834]]\n",
      "[[ 0.97766119]]\n",
      "[[ 0.02698804]]\n"
     ]
    }
   ],
   "source": [
    "print(sess.run(network_out, feed_dict={input_layer: np.array([[0.0, 0.0]])}))\n",
    "print(sess.run(network_out, feed_dict={input_layer: np.array([[0.0, 1.0]])}))\n",
    "print(sess.run(network_out, feed_dict={input_layer: np.array([[1.0, 0.0]])}))\n",
    "print(sess.run(network_out, feed_dict={input_layer: np.array([[1.0, 1.0]])}))"
   ]
  },
  {
   "cell_type": "markdown",
   "metadata": {},
   "source": [
    "### Questions\n",
    "\n",
    "- How tensorflow updates the weights\n",
    "- Are we doing BavkProp\n",
    "- How exactly we should send argumants to \"sess.run()\" for training and for just running the networks and also for just running the network "
   ]
  },
  {
   "cell_type": "markdown",
   "metadata": {},
   "source": [
    "# Mnist with simple feedforward neural network  "
   ]
  },
  {
   "cell_type": "code",
   "execution_count": null,
   "metadata": {
    "collapsed": true
   },
   "outputs": [],
   "source": [
    "# neural network structure\n",
    "input_layer = tf.placeholder(tf.float32,[None,784])\n",
    "output_layer = tf.placeholder(tf.float32,[None,10])\n",
    "\n",
    "neurons_1 = 28\n",
    "weights_1 = tf.Variable(tf.truncated_normal([784,neurons_1]))\n",
    "bias_1 = tf.Variable(tf.truncated_normal([neurons_1]))\n",
    "output_1 = tf.nn.sigmoid(tf.matmul(input_layer, weights_1) + bias_1)\n",
    "\n",
    "neurons_2 = 28\n",
    "weights_2 = tf.Variable(tf.truncated_normal([neurons_1,neurons_2]))\n",
    "bias_2 = tf.Variable(tf.truncated_normal([neurons_2]))\n",
    "output_2 = tf.nn.sigmoid(tf.matmul(output_1, weights_2) + bias_2)\n",
    "\n",
    "neurons_3 = 10\n",
    "weights_3 = tf.Variable(tf.truncated_normal([neurons_2, neurons_3]))\n",
    "bias_3 = tf.Variable(tf.truncated_normal([neurons_3]))\n",
    "network_out = tf.nn.sigmoid(tf.matmul(output_2, weights_3) + bias_3)\n",
    "\n",
    "# error\n",
    "# training step\n",
    "# training\n",
    "\n",
    "# sesssion initialization\n",
    "\n",
    "# training inputs\n",
    "# training outputs\n",
    "\n",
    "# for loop for training"
   ]
  },
  {
   "cell_type": "code",
   "execution_count": 5,
   "metadata": {
    "collapsed": true
   },
   "outputs": [],
   "source": [
    "tf.matmul?"
   ]
  }
 ],
 "metadata": {
  "kernelspec": {
   "display_name": "Python 3",
   "language": "python",
   "name": "python3"
  },
  "language_info": {
   "codemirror_mode": {
    "name": "ipython",
    "version": 3
   },
   "file_extension": ".py",
   "mimetype": "text/x-python",
   "name": "python",
   "nbconvert_exporter": "python",
   "pygments_lexer": "ipython3",
   "version": "3.5.2"
  }
 },
 "nbformat": 4,
 "nbformat_minor": 2
}
